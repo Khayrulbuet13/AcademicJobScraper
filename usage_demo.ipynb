{
 "cells": [
  {
   "cell_type": "code",
   "execution_count": null,
   "metadata": {},
   "outputs": [],
   "source": [
    "from academicjobscraper.scraper import AcademicJobScraper\n",
    "\n",
    "# Initialize with required keywords\n",
    "scraper = AcademicJobScraper(\n",
    "    keywords=[\"machine learning\", \"AI\"],  # Required\n",
    "    links_file=\"job_links.csv\",          # Optional\n",
    "    data_file=\"jobs_data.json\",          # Optional\n",
    "    results_file=\"relevant_jobs.csv\"      # Optional\n",
    ")\n",
    "\n",
    "# Start scraping\n",
    "scraper.scrape(\"https://academicjobsonline.org/your-search-url\")"
   ]
  }
 ],
 "metadata": {
  "kernelspec": {
   "display_name": "random",
   "language": "python",
   "name": "python3"
  },
  "language_info": {
   "codemirror_mode": {
    "name": "ipython",
    "version": 3
   },
   "file_extension": ".py",
   "mimetype": "text/x-python",
   "name": "python",
   "nbconvert_exporter": "python",
   "pygments_lexer": "ipython3",
   "version": "3.9.6"
  }
 },
 "nbformat": 4,
 "nbformat_minor": 2
}
